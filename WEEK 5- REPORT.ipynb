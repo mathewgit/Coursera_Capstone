{
 "cells": [
  {
   "cell_type": "markdown",
   "metadata": {},
   "source": [
    "# Capstone Project - The Battle of the Neighborhoods\n",
    "# Applied Data Science Capstone by IBM/Coursera"
   ]
  },
  {
   "cell_type": "markdown",
   "metadata": {},
   "source": [
    "## PROJECT TITLE -  RUNNERS PARADISE"
   ]
  },
  {
   "cell_type": "markdown",
   "metadata": {},
   "source": [
    "### Introduction: Business Problem ¶\n",
    "In this project we will try to find an optimal location for a Running application. Specifically, this report will be targeted to runners interested in locating a optimal place to live for running in United Kingdom.\n",
    "\n",
    "Since there are lots of parks in United Kingdom we will try to select few popular place locations in United Kingdon that are popular with runners. We are interested in a locality whether the runner is best close to the park for running. We  prefer staying in a locations as close to parks .\n",
    "\n",
    "We will use our data science powers to generate a few most promising neighborhoods based on this criteria. Advantages of each area will then be clearly expressed so that best possible final location can be chosen by runners"
   ]
  },
  {
   "cell_type": "markdown",
   "metadata": {},
   "source": [
    "## DATA SECTION\n",
    "We will use the FourSquare API to collect data about locations of the parks in London. We are selecting 5 major location in United Kingdom, the locations are London, Oxford, Cambridge,Edinburgh and Windsor. These are the most prefered running location in the United Kingdom."
   ]
  },
  {
   "cell_type": "markdown",
   "metadata": {},
   "source": [
    "# Methodology\n",
    "The main objective here is to asses which city in United Kingdom would have the closest park for the runner. I used the Four Square API . I used the near query to get park in the cities. Also, I use the CategoryID to set it to show only Park. \n",
    "\n",
    "An Example of my requests:\n",
    "\n",
    "https://developer.foursquare.com/docs/build-with-foursquare/categories/\n",
    "\n",
    "4bf58dd8d48988d163941735 is the Id of the Park Category. Also, Foursquare limits us to maximum of 100 venues per query.\n",
    "\n",
    "Moreover, I repeated this request for the 5 studied cities and got their top 100 venues. \n",
    "The popular running location is saved in Runners_Paradise.csv\n",
    "\n",
    "Next, to get an indicator of the density of all the identified parks in United Kingdom, I calculated a center coordinate of the venues to get the mean longitude and latitude values. Then I calculated the mean of the Euclidean distance from each venue to the mean coordinates. That was my indicator; mean distance to the mean coordinate."
   ]
  },
  {
   "attachments": {},
   "cell_type": "markdown",
   "metadata": {},
   "source": [
    "## Results\n",
    "For our initial visual inspection we see that all have locations have more then 10 plus parks . The following here are the pictures of the geoplot generated with folium:"
   ]
  },
  {
   "attachments": {},
   "cell_type": "markdown",
   "metadata": {},
   "source": [
    "![title](P_london.png)\n",
    "\n"
   ]
  },
  {
   "attachments": {},
   "cell_type": "markdown",
   "metadata": {},
   "source": [
    "![title](P_Cambridge.png)\n"
   ]
  },
  {
   "attachments": {},
   "cell_type": "markdown",
   "metadata": {},
   "source": [
    "![title](P_Edinburgh.png)\n",
    "\n"
   ]
  },
  {
   "attachments": {},
   "cell_type": "markdown",
   "metadata": {},
   "source": [
    "![title](P_Oxford.png)\n",
    "\n"
   ]
  },
  {
   "attachments": {},
   "cell_type": "markdown",
   "metadata": {},
   "source": [
    "![title](P_Windsor.png)"
   ]
  },
  {
   "cell_type": "markdown",
   "metadata": {},
   "source": [
    "Upon First inspection we see that London and Edinburg have more parks . In the next phase we Calculate the Mean coordinate and the mean distance to mean coordinate(MDMC). We represent the mean coordinate with a big green circle and distances with green lines"
   ]
  },
  {
   "cell_type": "markdown",
   "metadata": {},
   "source": [
    "#### Mean Distance from Mean coordinates\n",
    "\n",
    "London,UK Mean Distance from Mean coordinates - 0.10211696344549116\n",
    "<br>\n",
    "Oxford,UK Mean Distance from Mean coordinates - 0.023904481323610886\n",
    "<br>\n",
    "Cambridge,UK Mean Distance from Mean coordinates - 0.026315457669379753\n",
    "<br>\n",
    "Edinburgh,UK Mean Distance from Mean coordinates - 0.03923226547454313\n",
    "<br>\n",
    "Windsor,UK Mean Distance from Mean coordinates - 0.04309900140627803"
   ]
  },
  {
   "attachments": {},
   "cell_type": "markdown",
   "metadata": {},
   "source": [
    "![title](A_london.png)\n"
   ]
  },
  {
   "attachments": {},
   "cell_type": "markdown",
   "metadata": {},
   "source": [
    "![title](A_Edinburgh.png)\n"
   ]
  },
  {
   "attachments": {},
   "cell_type": "markdown",
   "metadata": {},
   "source": [
    "![title](A_Cambridge.png)\n"
   ]
  },
  {
   "attachments": {},
   "cell_type": "markdown",
   "metadata": {},
   "source": [
    "![title](A_Oxford.png)\n"
   ]
  },
  {
   "attachments": {},
   "cell_type": "markdown",
   "metadata": {},
   "source": [
    "![title](A_Windsor.png)"
   ]
  },
  {
   "cell_type": "markdown",
   "metadata": {},
   "source": [
    "#### RESULTS RANKED IN ORDER OF MEAN DISTANCE FROM MEAN COORDINATES:\n",
    "\n",
    "\n",
    "Oxford,UK Mean Distance from Mean coordinates - 0.023904481323610886\n",
    "<br>\n",
    "Cambridge,UK Mean Distance from Mean coordinates - 0.026315457669379753\n",
    "<br>\n",
    "Edinburgh,UK Mean Distance from Mean coordinates - 0.03923226547454313\n",
    "<br>\n",
    "Windsor,UK Mean Distance from Mean coordinates - 0.04309900140627803\n",
    "<br>\n",
    "London,UK Mean Distance from Mean coordinates - 0.10211696344549116"
   ]
  },
  {
   "cell_type": "markdown",
   "metadata": {},
   "source": [
    "### Discussion\n",
    "Oxford and Cambridge is pretty close, what if we remove one outliners from Cambridge to see if Cambridge comes close to Oxford. \n",
    "The new MDMC for Cambridge was: 0.023113437334794786, and now Cambridge is on the first place.\n",
    "\n",
    "As FourSquare is limited , more analysis could be done."
   ]
  },
  {
   "cell_type": "markdown",
   "metadata": {},
   "source": [
    "### Conclusion\n",
    "Now there is no doubt that Oxford is the best place to run with many running parks close by closely followed by Cambridge. A running ethusisast opt for Oxford, Cambrisge, Edinburh, Wndsor and lastly London if he is passionate to run all these park.\n",
    "\n",
    "Also, we would recommend that our runner book a place of stay closer to the mean coordinate."
   ]
  },
  {
   "cell_type": "markdown",
   "metadata": {},
   "source": []
  },
  {
   "cell_type": "markdown",
   "metadata": {},
   "source": []
  },
  {
   "cell_type": "markdown",
   "metadata": {},
   "source": []
  },
  {
   "cell_type": "markdown",
   "metadata": {},
   "source": []
  }
 ],
 "metadata": {
  "kernelspec": {
   "display_name": "Python 3",
   "language": "python",
   "name": "python3"
  },
  "language_info": {
   "codemirror_mode": {
    "name": "ipython",
    "version": 3
   },
   "file_extension": ".py",
   "mimetype": "text/x-python",
   "name": "python",
   "nbconvert_exporter": "python",
   "pygments_lexer": "ipython3",
   "version": "3.7.6"
  }
 },
 "nbformat": 4,
 "nbformat_minor": 4
}
